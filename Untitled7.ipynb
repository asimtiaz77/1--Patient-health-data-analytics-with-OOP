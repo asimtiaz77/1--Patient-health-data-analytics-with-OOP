{
 "cells": [
  {
   "cell_type": "code",
   "execution_count": 1,
   "id": "612f4e8c",
   "metadata": {},
   "outputs": [
    {
     "name": "stdout",
     "output_type": "stream",
     "text": [
      "Patient Information:\n",
      "Name: Example Jane Doe\n",
      "Age: 55\n",
      "Gender: Male\n",
      "Blood Pressure: (150, 85)\n",
      "Temperature: 36.8\n",
      "\n",
      "Patient Information:\n",
      "Name: Example Jane Smith\n",
      "Age: 42\n",
      "Gender: Female\n",
      "Blood Pressure: (140, 88)\n",
      "Temperature: 37.6\n",
      "\n",
      "Patient 1 is Hypertensive: True\n",
      "Patient 1 is Feverish: False\n",
      "\n",
      "Patient 2 is Hypertensive: True\n",
      "Patient 2 is Feverish: True\n"
     ]
    }
   ],
   "source": [
    "class Patient:\n",
    "    def __init__(self, name, age, gender, blood_pressure, temperature):\n",
    "        self.name = name\n",
    "        self.age = age\n",
    "        self.gender = gender\n",
    "        self.blood_pressure = blood_pressure\n",
    "        self.temperature = temperature\n",
    "\n",
    "    def display_patient_info(self):\n",
    "        print(f\"Patient Information:\\nName: {self.name}\\nAge: {self.age}\\nGender: {self.gender}\\nBlood Pressure: {self.blood_pressure}\\nTemperature: {self.temperature}\\n\")\n",
    "\n",
    "    def is_hypertensive(self):\n",
    "        systolic, diastolic = self.blood_pressure\n",
    "        return systolic >= 140 or diastolic >= 90\n",
    "\n",
    "    def is_feverish(self):\n",
    "        return self.temperature >= 37.5\n",
    "\n",
    "# Create two instances of the Example Patient class\n",
    "patient1 = Patient(\"Example Jane Doe\", 55, \"Male\", (150, 85), 36.8)\n",
    "patient2 = Patient(\"Example Jane Smith\", 42, \"Female\", (140, 88), 37.6)\n",
    "\n",
    "# Display patient information\n",
    "patient1.display_patient_info()\n",
    "patient2.display_patient_info()\n",
    "\n",
    "# Check for hypertension and fever\n",
    "print(f\"Patient 1 is Hypertensive: {patient1.is_hypertensive()}\")\n",
    "print(f\"Patient 1 is Feverish: {patient1.is_feverish()}\\n\")\n",
    "print(f\"Patient 2 is Hypertensive: {patient2.is_hypertensive()}\")\n",
    "print(f\"Patient 2 is Feverish: {patient2.is_feverish()}\")"
   ]
  },
  {
   "cell_type": "code",
   "execution_count": null,
   "id": "56f14937",
   "metadata": {},
   "outputs": [],
   "source": []
  }
 ],
 "metadata": {
  "kernelspec": {
   "display_name": "Python 3 (ipykernel)",
   "language": "python",
   "name": "python3"
  },
  "language_info": {
   "codemirror_mode": {
    "name": "ipython",
    "version": 3
   },
   "file_extension": ".py",
   "mimetype": "text/x-python",
   "name": "python",
   "nbconvert_exporter": "python",
   "pygments_lexer": "ipython3",
   "version": "3.11.4"
  }
 },
 "nbformat": 4,
 "nbformat_minor": 5
}
